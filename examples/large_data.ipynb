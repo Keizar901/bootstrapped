{
 "cells": [
  {
   "cell_type": "raw",
   "metadata": {
    "collapsed": true
   },
   "source": [
    "Copyright 2016-present, Facebook, Inc.\n",
    "\n",
    "All rights reserved.\n",
    "\n",
    "This source code is licensed under the license found in the LICENSE-examples file in the root directory of this source tree."
   ]
  },
  {
   "cell_type": "markdown",
   "metadata": {},
   "source": [
    "# Large Data\n",
    "\n",
    "The bootstrapped library also provides functionality to deal with large-ish datasets. There are two situations where large data may pose issues. By large, we mean that it still fits reasnably in memory but is large enough that the bootstrap methods take considerable time to execute.\n",
    "1. Memory\n",
    "2. Time\n"
   ]
  },
  {
   "cell_type": "code",
   "execution_count": 1,
   "metadata": {
    "collapsed": true
   },
   "outputs": [],
   "source": [
    "import matplotlib.pyplot as plt\n",
    "import pandas as pd\n",
    "import numpy as np\n",
    "import time"
   ]
  },
  {
   "cell_type": "code",
   "execution_count": 2,
   "metadata": {
    "collapsed": false
   },
   "outputs": [],
   "source": [
    "import bootstrapped.bootstrap as bs\n",
    "import bootstrapped.compare_functions as bs_compare\n",
    "import bootstrapped.stats_functions as bs_stats"
   ]
  },
  {
   "cell_type": "code",
   "execution_count": 3,
   "metadata": {
    "collapsed": true
   },
   "outputs": [],
   "source": [
    "test = np.random.normal(loc=100, scale=100, size=1000000) * 1.1\n",
    "ctrl = np.random.normal(loc=100, scale=100, size=1000000) "
   ]
  },
  {
   "cell_type": "markdown",
   "metadata": {},
   "source": [
    "# Memory\n",
    "Use 'iteration_batch_size' argument. This will help with the memory footprint at the cost of some speed."
   ]
  },
  {
   "cell_type": "code",
   "execution_count": 4,
   "metadata": {
    "collapsed": false
   },
   "outputs": [
    {
     "name": "stdout",
     "output_type": "stream",
     "text": [
      "There was a memory error - too much memory to be allocated\n"
     ]
    }
   ],
   "source": [
    "# this will probably fail unless you have a LOT of memory\n",
    "try:\n",
    "    print(bs.bootstrap_ab(test, ctrl, bs_stats.sum, bs_compare.percent_change))\n",
    "except MemoryError as e:\n",
    "    print('There was a memory error - too much memory to be allocated')"
   ]
  },
  {
   "cell_type": "code",
   "execution_count": 5,
   "metadata": {
    "collapsed": false
   },
   "outputs": [
    {
     "name": "stdout",
     "output_type": "stream",
     "text": [
      "Results 10.0181745751    (9.71428395746, 10.3221786039)\n",
      "\n",
      "Seconds Taken 464.418161154\n"
     ]
    }
   ],
   "source": [
    "t = time.time()\n",
    "results = bs.bootstrap_ab(test, ctrl, bs_stats.sum, bs_compare.percent_change, \n",
    "                          iteration_batch_size=1000)\n",
    "\n",
    "print('Results {}'.format(results))\n",
    "print('')\n",
    "print('Seconds Taken {}'.format(time.time() - t))"
   ]
  },
  {
   "cell_type": "markdown",
   "metadata": {},
   "source": [
    "# Time\n",
    "Use the 'num_threads' argument. This will spawn @num_threads processes to divide an conquer. This will usually speed up execution at the cost of CPU utilizaiton."
   ]
  },
  {
   "cell_type": "code",
   "execution_count": 6,
   "metadata": {
    "collapsed": false
   },
   "outputs": [
    {
     "name": "stdout",
     "output_type": "stream",
     "text": [
      "Results 10.0181745751    (9.7088207046, 10.3279251239)\n",
      "\n",
      "Seconds Taken 74.681885004\n"
     ]
    }
   ],
   "source": [
    "t = time.time()\n",
    "results = bs.bootstrap_ab(test, ctrl, bs_stats.sum, bs_compare.percent_change, \n",
    "                          iteration_batch_size=500, num_threads=20)\n",
    "\n",
    "print('Results {}'.format(results))\n",
    "print('')\n",
    "print('Seconds Taken {}'.format(time.time() - t))"
   ]
  },
  {
   "cell_type": "markdown",
   "metadata": {
    "collapsed": true
   },
   "source": [
    "# A tip on Power\n",
    "Power calculation simulations can take a very long time. Fortunately this method is easily parallelizable. "
   ]
  },
  {
   "cell_type": "code",
   "execution_count": 7,
   "metadata": {
    "collapsed": false
   },
   "outputs": [],
   "source": [
    "def run_simulation(num_loops, lift, data):\n",
    "    results = []\n",
    "    for _ in range(num_loops):\n",
    "        \n",
    "        # in real life you would use real data and then apply some hypothetical lift to it\n",
    "        sel = np.random.random(len(data)) > 0.5\n",
    "        \n",
    "        test = data[sel] * lift\n",
    "        ctrl = data[~sel]\n",
    "        \n",
    "        r = bs.bootstrap_ab(test, ctrl, bs_stats.sum, bs_compare.percent_change, \n",
    "                            iteration_batch_size=500)\n",
    "        results.append(r)\n",
    "        \n",
    "    return results"
   ]
  },
  {
   "cell_type": "code",
   "execution_count": 8,
   "metadata": {
    "collapsed": false
   },
   "outputs": [],
   "source": [
    "data = np.random.normal(loc=100, scale=100, size=20000) "
   ]
  },
  {
   "cell_type": "code",
   "execution_count": 9,
   "metadata": {
    "collapsed": false
   },
   "outputs": [],
   "source": [
    "import multiprocessing\n",
    "num_threads = 20\n",
    "iterations_per_thread = int(np.ceil(3000/num_threads))\n",
    "\n",
    "pool = multiprocessing.Pool(num_threads)\n",
    "\n",
    "pow_results = []\n",
    "for _ in range(num_threads):\n",
    "    r = pool.apply_async(run_simulation, (iterations_per_thread, 1.05, data))\n",
    "    pow_results.append(r)\n",
    "\n",
    "pow_results = np.hstack([r.get() for r in pow_results])\n",
    "pool.close()"
   ]
  },
  {
   "cell_type": "code",
   "execution_count": 10,
   "metadata": {
    "collapsed": true
   },
   "outputs": [],
   "source": [
    "import bootstrapped.power as bs_power"
   ]
  },
  {
   "cell_type": "code",
   "execution_count": 11,
   "metadata": {
    "collapsed": false
   },
   "outputs": [
    {
     "data": {
      "image/png": "[encoded data removed]",
      "text/plain": [
       "<matplotlib.figure.Figure at 0x7f6a3c356390>"
      ]
     },
     "metadata": {},
     "output_type": "display_data"
    }
   ],
   "source": [
    "# take every 10th sample to make plotting a bit cleaner\n",
    "bs_power.plot_power(pow_results)"
   ]
  },
  {
   "cell_type": "code",
   "execution_count": 12,
   "metadata": {
    "collapsed": false
   },
   "outputs": [
    {
     "data": {
      "text/html": [
       "<div>\n",
       "<table border=\"1\" class=\"dataframe\">\n",
       "  <thead>\n",
       "    <tr style=\"text-align: right;\">\n",
       "      <th></th>\n",
       "      <th>Percent</th>\n",
       "    </tr>\n",
       "  </thead>\n",
       "  <tbody>\n",
       "    <tr>\n",
       "      <th>Insignificant</th>\n",
       "      <td>16.667</td>\n",
       "    </tr>\n",
       "    <tr>\n",
       "      <th>Negative</th>\n",
       "      <td>0.667</td>\n",
       "    </tr>\n",
       "    <tr>\n",
       "      <th>Negative Significant</th>\n",
       "      <td>0.000</td>\n",
       "    </tr>\n",
       "    <tr>\n",
       "      <th>Positive</th>\n",
       "      <td>99.333</td>\n",
       "    </tr>\n",
       "    <tr>\n",
       "      <th>Positive Significant</th>\n",
       "      <td>83.333</td>\n",
       "    </tr>\n",
       "  </tbody>\n",
       "</table>\n",
       "</div>"
      ],
      "text/plain": [
       "                      Percent\n",
       "Insignificant          16.667\n",
       "Negative                0.667\n",
       "Negative Significant    0.000\n",
       "Positive               99.333\n",
       "Positive Significant   83.333"
      ]
     },
     "execution_count": 12,
     "metadata": {},
     "output_type": "execute_result"
    }
   ],
   "source": [
    "# This test was positive but we should only expect to see a significantly positive \n",
    "# result ~15% of the time\n",
    "bs_power.power_stats(pow_results)"
   ]
  }
 ],
 "metadata": {
  "anaconda-cloud": {},
  "kernelspec": {
   "display_name": "Python [default]",
   "language": "python",
   "name": "python2"
  },
  "language_info": {
   "codemirror_mode": {
    "name": "ipython",
    "version": 2
   },
   "file_extension": ".py",
   "mimetype": "text/x-python",
   "name": "python",
   "nbconvert_exporter": "python",
   "pygments_lexer": "ipython2",
   "version": "2.7.12"
  }
 },
 "nbformat": 4,
 "nbformat_minor": 0
}
